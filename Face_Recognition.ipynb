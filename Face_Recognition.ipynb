{
  "nbformat": 4,
  "nbformat_minor": 0,
  "metadata": {
    "colab": {
      "name": "Face_Recognition.ipynb",
      "provenance": [],
      "include_colab_link": true
    },
    "kernelspec": {
      "name": "python3",
      "display_name": "Python 3"
    }
  },
  "cells": [
    {
      "cell_type": "markdown",
      "metadata": {
        "id": "view-in-github",
        "colab_type": "text"
      },
      "source": [
        "<a href=\"https://colab.research.google.com/github/Sidd1609/Face_Detection/blob/master/Face_Recognition.ipynb\" target=\"_parent\"><img src=\"https://colab.research.google.com/assets/colab-badge.svg\" alt=\"Open In Colab\"/></a>"
      ]
    },
    {
      "cell_type": "code",
      "metadata": {
        "id": "0F6n0d5RLNlM",
        "colab_type": "code",
        "colab": {}
      },
      "source": [
        "import cv2  \n",
        "face_cascade = cv2.CascadeClassifier('haarcascade_frontalface_default.xml') \n",
        "eye_cascade = cv2.CascadeClassifier('haarcascade_eye.xml')  \n",
        "  \n",
        "cap = cv2.VideoCapture(0) \n",
        "\n",
        "while 1:  \n",
        "    ret, img = cap.read()  \n",
        "    gray = cv2.cvtColor(img, cv2.COLOR_BGR2GRAY) \n",
        "    faces = face_cascade.detectMultiScale(gray, 1.3, 5) \n",
        "  \n",
        "    for (x,y,w,h) in faces:  \n",
        "        cv2.rectangle(img,(x,y),(x+w,y+h),(255,255,0),2)  \n",
        "        roi_gray = gray[y:y+h, x:x+w] \n",
        "        roi_color = img[y:y+h, x:x+w] \n",
        "\n",
        "        eyes = eye_cascade.detectMultiScale(roi_gray)  \n",
        "\n",
        "        for (ex,ey,ew,eh) in eyes: \n",
        "            cv2.rectangle(roi_color,(ex,ey),(ex+ew,ey+eh),(0,127,255),2) \n",
        "  \n",
        "    cv2.imshow('img',img) \n",
        "  \n",
        "    k = cv2.waitKey(30) & 0xff\n",
        "    if k == 27: \n",
        "        break\n",
        "  \n",
        "cap.release() \n",
        "cv2.destroyAllWindows()  "
      ],
      "execution_count": 0,
      "outputs": []
    }
  ]
}